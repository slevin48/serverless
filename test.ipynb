{
 "cells": [
  {
   "attachments": {},
   "cell_type": "markdown",
   "metadata": {},
   "source": [
    "# Test\n",
    "\n",
    "https://realpython.com/urllib-request/\n"
   ]
  },
  {
   "cell_type": "code",
   "execution_count": 1,
   "metadata": {},
   "outputs": [],
   "source": [
    "from urllib.request import urlopen"
   ]
  },
  {
   "cell_type": "code",
   "execution_count": 2,
   "metadata": {},
   "outputs": [],
   "source": [
    "url = \"https://bcooy3u7uk.execute-api.eu-west-3.amazonaws.com/api/\""
   ]
  },
  {
   "cell_type": "code",
   "execution_count": 7,
   "metadata": {},
   "outputs": [
    {
     "data": {
      "text/plain": [
       "b'{\"hello\":\"world\"}'"
      ]
     },
     "execution_count": 7,
     "metadata": {},
     "output_type": "execute_result"
    }
   ],
   "source": [
    "urlopen(url).read()"
   ]
  },
  {
   "attachments": {},
   "cell_type": "markdown",
   "metadata": {},
   "source": [
    "## Local music test"
   ]
  },
  {
   "cell_type": "code",
   "execution_count": 8,
   "metadata": {},
   "outputs": [
    {
     "data": {
      "text/plain": [
       "b'{\"success\":\"Video downloaded\"}'"
      ]
     },
     "execution_count": 8,
     "metadata": {},
     "output_type": "execute_result"
    }
   ],
   "source": [
    "import requests as rq\n",
    "param = \"FeNbwb7iOdk\" # Nea - Drunk enough to\n",
    "url = \"http://127.0.0.1:8000/convert?v=\"+param\n",
    "rq.post(url).content"
   ]
  },
  {
   "attachments": {},
   "cell_type": "markdown",
   "metadata": {},
   "source": [
    "## Prod Music Test"
   ]
  },
  {
   "cell_type": "code",
   "execution_count": 3,
   "metadata": {},
   "outputs": [
    {
     "data": {
      "text/plain": [
       "b'{\"Code\":\"InternalServerError\",\"Message\":\"An internal server error occurred.\"}'"
      ]
     },
     "execution_count": 3,
     "metadata": {},
     "output_type": "execute_result"
    }
   ],
   "source": [
    "import requests as rq\n",
    "param = \"FeNbwb7iOdk\" # Nea - Drunk enough to\n",
    "url = \"https://f4twg85hoj.execute-api.eu-west-3.amazonaws.com/api/convert?v=\"+param\n",
    "rq.post(url).content"
   ]
  },
  {
   "attachments": {},
   "cell_type": "markdown",
   "metadata": {},
   "source": [
    "# Test Weather S3 upload"
   ]
  },
  {
   "cell_type": "code",
   "execution_count": 1,
   "metadata": {},
   "outputs": [
    {
     "data": {
      "text/plain": [
       "{'ResponseMetadata': {'RequestId': 'S9TBM905HKZZ9XFX',\n",
       "  'HostId': 't2S5I+U0nAJBihavTFGRxQP/h3yH7pXH2WfWA3JqpsevlnaVxlfiLTa9i7eyC1TRjA0f4D4LJN8=',\n",
       "  'HTTPStatusCode': 200,\n",
       "  'HTTPHeaders': {'x-amz-id-2': 't2S5I+U0nAJBihavTFGRxQP/h3yH7pXH2WfWA3JqpsevlnaVxlfiLTa9i7eyC1TRjA0f4D4LJN8=',\n",
       "   'x-amz-request-id': 'S9TBM905HKZZ9XFX',\n",
       "   'date': 'Sun, 01 Jan 2023 22:47:16 GMT',\n",
       "   'etag': '\"3f1df4e5dde92c5e0d02c6de102fc8e1\"',\n",
       "   'server': 'AmazonS3',\n",
       "   'content-length': '0'},\n",
       "  'RetryAttempts': 0},\n",
       " 'ETag': '\"3f1df4e5dde92c5e0d02c6de102fc8e1\"'}"
      ]
     },
     "execution_count": 1,
     "metadata": {},
     "output_type": "execute_result"
    }
   ],
   "source": [
    "import os\n",
    "import datetime\n",
    "import requests\n",
    "import boto3\n",
    "from dotenv import load_dotenv\n",
    "\n",
    "load_dotenv()\n",
    "\n",
    "# Set the environment variables for the OpenWeatherMap API key and location\n",
    "OWM_API_KEY = os.environ['OWM_API_KEY']\n",
    "LOCATION = os.environ['LOCATION']\n",
    "\n",
    "# Set the URL for the OpenWeatherMap API\n",
    "API_URL = f'https://api.openweathermap.org/data/2.5/weather?q={LOCATION}&appid={OWM_API_KEY}'\n",
    "\n",
    "# Set the name of the S3 bucket and the key for the text file\n",
    "BUCKET_NAME = 'weather48'\n",
    "FILE_KEY = 'temperature.txt'\n",
    "\n",
    "# Create an S3 client\n",
    "s3 = boto3.client('s3')\n",
    "\n",
    "# Make a request to the OpenWeatherMap API\n",
    "response = requests.get(API_URL)\n",
    "data = response.json()\n",
    "\n",
    "# Get the temperature from the API response\n",
    "temperature = data['main']['temp']\n",
    "\n",
    "# Convert the temperature from Kelvin to Celsius\n",
    "temperature = temperature - 273.15\n",
    "\n",
    "#  Get the current time and format it as a string\n",
    "now = datetime.datetime.now()\n",
    "time_str = now.strftime('%Y-%m-%d %H:%M:%S')\n",
    "\n",
    "# Concatenate the temperature and time strings\n",
    "temperature_str = f'{temperature:.1f}°C, {time_str}'\n",
    "\n",
    "# Save the temperature to a text file in S3\n",
    "s3.put_object(Bucket=BUCKET_NAME, Key=FILE_KEY, Body=temperature_str)"
   ]
  },
  {
   "attachments": {},
   "cell_type": "markdown",
   "metadata": {},
   "source": [
    "## Prod Weather API Test"
   ]
  },
  {
   "cell_type": "code",
   "execution_count": 4,
   "metadata": {},
   "outputs": [
    {
     "data": {
      "text/plain": [
       "b'{\"temp\":\"7.2\\\\u00b0C, 2023-01-01 22:49:15\"}'"
      ]
     },
     "execution_count": 4,
     "metadata": {},
     "output_type": "execute_result"
    }
   ],
   "source": [
    "import requests as rq\n",
    "url = 'https://ykzsfk51df.execute-api.us-east-1.amazonaws.com/api/'\n",
    "res = rq.get(url)\n",
    "res.content"
   ]
  }
 ],
 "metadata": {
  "kernelspec": {
   "display_name": "env",
   "language": "python",
   "name": "python3"
  },
  "language_info": {
   "codemirror_mode": {
    "name": "ipython",
    "version": 3
   },
   "file_extension": ".py",
   "mimetype": "text/x-python",
   "name": "python",
   "nbconvert_exporter": "python",
   "pygments_lexer": "ipython3",
   "version": "3.10.4"
  },
  "orig_nbformat": 4,
  "vscode": {
   "interpreter": {
    "hash": "db352434e952295e0f6078ce525d343281c0c1c2cd5ec9314cd1ff80e7e6b71a"
   }
  }
 },
 "nbformat": 4,
 "nbformat_minor": 2
}
